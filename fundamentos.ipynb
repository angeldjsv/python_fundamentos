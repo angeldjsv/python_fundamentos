{
 "cells": [
  {
   "cell_type": "markdown",
   "id": "31cab394",
   "metadata": {},
   "source": [
    "# Fundamentos de pyhton\n",
    "    * Variables\n",
    "    * Operadores matemáticos\n",
    "    * Operadores lógicos\n",
    "    * Operadores de comparación\n",
    "    * Condicionales\n",
    "        - Simple\n",
    "        - Compuestos\n",
    "        - Anidados\n",
    "        - Encadenados \n",
    "    * Ciclos\n",
    "        - Finítos (For)    \n",
    "        - Infinitos (While)\n",
    "    * Funciones\n",
    "    * Estructuras de datos\n",
    "        - Caracteres\n",
    "        - Enteros\n",
    "        - Flotantes\n",
    "        - Listas\n",
    "        - Dicionarios \n",
    "        - Duplas\n",
    "    * Fundamentos de POO"
   ]
  },
  {
   "cell_type": "code",
   "execution_count": 1,
   "id": "fada3d87",
   "metadata": {},
   "outputs": [
    {
     "name": "stdout",
     "output_type": "stream",
     "text": [
      "Epale\n"
     ]
    }
   ],
   "source": [
    "print(\"Epale\")"
   ]
  },
  {
   "cell_type": "code",
   "execution_count": 2,
   "id": "3bbebd5c",
   "metadata": {},
   "outputs": [],
   "source": [
    "# Variables\n",
    "name = \"Javier\""
   ]
  },
  {
   "cell_type": "code",
   "execution_count": 3,
   "id": "5af051a5",
   "metadata": {},
   "outputs": [
    {
     "data": {
      "text/plain": [
       "'Javier'"
      ]
     },
     "execution_count": 3,
     "metadata": {},
     "output_type": "execute_result"
    }
   ],
   "source": [
    "name"
   ]
  },
  {
   "cell_type": "code",
   "execution_count": 4,
   "id": "b7ede0fa",
   "metadata": {},
   "outputs": [],
   "source": [
    "last_name = \"Gonzalez\""
   ]
  },
  {
   "cell_type": "code",
   "execution_count": 5,
   "id": "dbbda1c0",
   "metadata": {},
   "outputs": [],
   "source": [
    "# Operadores matematicos\n",
    "suma = 2 + 2    \n",
    "resta = 2 - 2\n",
    "multiplicacion = 2 * 2\n",
    "division = 2 / 2 "
   ]
  },
  {
   "cell_type": "code",
   "execution_count": 1,
   "id": "5af5c37d",
   "metadata": {},
   "outputs": [],
   "source": [
    "number1 = 2\n",
    "number2 = 3"
   ]
  },
  {
   "cell_type": "code",
   "execution_count": 2,
   "id": "fb16174b",
   "metadata": {},
   "outputs": [],
   "source": [
    "suma = number1 + number2\n",
    "resta = number1 - number2\n",
    "multiplicacion = number1 * number2\n",
    "division = number1 / number2"
   ]
  },
  {
   "cell_type": "code",
   "execution_count": 3,
   "id": "01c0d7a3",
   "metadata": {},
   "outputs": [
    {
     "name": "stdout",
     "output_type": "stream",
     "text": [
      "5\n",
      "-1\n"
     ]
    }
   ],
   "source": [
    "print(suma)\n",
    "print(resta)"
   ]
  },
  {
   "cell_type": "code",
   "execution_count": 4,
   "id": "477ae2e0",
   "metadata": {},
   "outputs": [
    {
     "name": "stdout",
     "output_type": "stream",
     "text": [
      "El resultado de la suma es 5\n",
      "El resultado de la resta es -1\n",
      "El resultado de la multiplicacion es 6\n",
      "El resultado de la division es 0.6666666666666666\n"
     ]
    }
   ],
   "source": [
    "print(f\"El resultado de la suma es {suma}\")\n",
    "print(f\"El resultado de la resta es {resta}\")\n",
    "print(f\"El resultado de la multiplicacion es {multiplicacion}\")\n",
    "print(f\"El resultado de la division es {division}\")"
   ]
  },
  {
   "cell_type": "code",
   "execution_count": 5,
   "id": "1044cd84",
   "metadata": {},
   "outputs": [],
   "source": [
    "# Operadores de comparacion\n",
    "# Igual a ==\n",
    "# Mayor que >\n",
    "# Menor que <\n",
    "# Mayor o igual que >=\n",
    "# Menor o igual que <=\n",
    "# Diferente de !="
   ]
  },
  {
   "cell_type": "code",
   "execution_count": 6,
   "id": "400c8f15",
   "metadata": {},
   "outputs": [
    {
     "data": {
      "text/plain": [
       "True"
      ]
     },
     "execution_count": 6,
     "metadata": {},
     "output_type": "execute_result"
    }
   ],
   "source": [
    "3 > 2"
   ]
  },
  {
   "cell_type": "code",
   "execution_count": 7,
   "id": "4e7eb5cf",
   "metadata": {},
   "outputs": [
    {
     "data": {
      "text/plain": [
       "False"
      ]
     },
     "execution_count": 7,
     "metadata": {},
     "output_type": "execute_result"
    }
   ],
   "source": [
    "3 != 3\n"
   ]
  },
  {
   "cell_type": "code",
   "execution_count": 8,
   "id": "f93eef4d",
   "metadata": {},
   "outputs": [
    {
     "data": {
      "text/plain": [
       "False"
      ]
     },
     "execution_count": 8,
     "metadata": {},
     "output_type": "execute_result"
    }
   ],
   "source": [
    "number1 == number2"
   ]
  },
  {
   "cell_type": "code",
   "execution_count": 12,
   "id": "854f36eb",
   "metadata": {},
   "outputs": [
    {
     "name": "stdout",
     "output_type": "stream",
     "text": [
      "2\n",
      "3\n",
      "number1 no es mayor que number2\n"
     ]
    }
   ],
   "source": [
    "# condicionales \n",
    "print(number1)\n",
    "print(number2)\n",
    "\n",
    "if number1 > number2:\n",
    "    print(\"number1 es mayor que number2\")\n",
    "    \n",
    "else:\n",
    "    print(\"number1 no es mayor que number2\")"
   ]
  },
  {
   "cell_type": "code",
   "execution_count": null,
   "id": "09463b9c",
   "metadata": {},
   "outputs": [
    {
     "name": "stdout",
     "output_type": "stream",
     "text": [
      "2\n",
      "3\n",
      "number1 no es mayor que number2\n"
     ]
    }
   ],
   "source": [
    "# condicionales \n",
    "number1 = 18\n",
    "number2 = 12\n",
    "\n",
    "if number1 > number2:\n",
    "    print(\"number1 es mayor que number2\")\n",
    "elif number1 < number2:\n",
    "    print(\"number1 no es mayor que number2\")\n",
    "else:\n",
    "    print(\"number1 es igual a number2\")"
   ]
  },
  {
   "cell_type": "code",
   "execution_count": 16,
   "id": "8608482a",
   "metadata": {},
   "outputs": [
    {
     "name": "stdout",
     "output_type": "stream",
     "text": [
      "number1 es mayor que number2\n",
      "number1 es mayor que 10\n"
     ]
    }
   ],
   "source": [
    "# condicionales \n",
    "number1 = 18\n",
    "number2 = 12\n",
    "\n",
    "if number1 > number2:\n",
    "    if number1 > 10: \n",
    "        print(\"number1 es mayor que number2\")\n",
    "        print(\"number1 es mayor que 10\")"
   ]
  },
  {
   "cell_type": "code",
   "execution_count": 17,
   "id": "691139a6",
   "metadata": {},
   "outputs": [
    {
     "name": "stdout",
     "output_type": "stream",
     "text": [
      "number1 es mayor que number2\n",
      "number1 es mayor que 10\n"
     ]
    }
   ],
   "source": [
    "# condicionales \n",
    "number1 = 18\n",
    "number2 = 12\n",
    "\n",
    "if (number1 > number2) and (number1 > 10):\n",
    "    if number1 > 10: \n",
    "        print(\"number1 es mayor que number2\")\n",
    "        print(\"number1 es mayor que 10\")"
   ]
  },
  {
   "cell_type": "code",
   "execution_count": 18,
   "id": "f728492a",
   "metadata": {},
   "outputs": [
    {
     "name": "stdout",
     "output_type": "stream",
     "text": [
      "number1 es mayor que number2\n"
     ]
    }
   ],
   "source": [
    "# condicionales \n",
    "number1 = 18\n",
    "number2 = 12\n",
    "\n",
    "if number1 > number2:\n",
    "    if number1 > 10: \n",
    "        print(\"number1 es mayor que number2\")\n",
    "    else:\n",
    "        print(\"number1 no es mayor que number2\")\n",
    "else:\n",
    "    print(\"number1 no es mayor que number2\") "
   ]
  },
  {
   "cell_type": "code",
   "execution_count": 19,
   "id": "9227b5f4",
   "metadata": {},
   "outputs": [],
   "source": [
    "# sstructura de datos \n",
    "# strings\n",
    "name = \"Gabriela\""
   ]
  },
  {
   "cell_type": "code",
   "execution_count": 20,
   "id": "46cc66c3",
   "metadata": {},
   "outputs": [
    {
     "data": {
      "text/plain": [
       "str"
      ]
     },
     "execution_count": 20,
     "metadata": {},
     "output_type": "execute_result"
    }
   ],
   "source": [
    "type(name)"
   ]
  },
  {
   "cell_type": "code",
   "execution_count": 21,
   "id": "14247c9d",
   "metadata": {},
   "outputs": [
    {
     "data": {
      "text/plain": [
       "'Gabriela'"
      ]
     },
     "execution_count": 21,
     "metadata": {},
     "output_type": "execute_result"
    }
   ],
   "source": [
    "name.capitalize()\n"
   ]
  },
  {
   "cell_type": "code",
   "execution_count": 22,
   "id": "aac64b8b",
   "metadata": {},
   "outputs": [
    {
     "data": {
      "text/plain": [
       "int"
      ]
     },
     "execution_count": 22,
     "metadata": {},
     "output_type": "execute_result"
    }
   ],
   "source": [
    "type(number1)"
   ]
  },
  {
   "cell_type": "code",
   "execution_count": 23,
   "id": "c896f514",
   "metadata": {},
   "outputs": [],
   "source": [
    "# Listas\n",
    "name_list = [\"Gabriela\", \"Javier\", \"Jose\", \"Luis\", \"Pedro\"]"
   ]
  },
  {
   "cell_type": "code",
   "execution_count": 24,
   "id": "8b3012b4",
   "metadata": {},
   "outputs": [],
   "source": [
    "age_list = [18, 20, 25, 30, 35]"
   ]
  },
  {
   "cell_type": "code",
   "execution_count": 29,
   "id": "ce300418",
   "metadata": {},
   "outputs": [],
   "source": [
    "name_list.append(\"Salcedo\")"
   ]
  },
  {
   "cell_type": "code",
   "execution_count": 30,
   "id": "1c75852c",
   "metadata": {},
   "outputs": [
    {
     "data": {
      "text/plain": [
       "'Pedro'"
      ]
     },
     "execution_count": 30,
     "metadata": {},
     "output_type": "execute_result"
    }
   ],
   "source": [
    "name_list[4]"
   ]
  },
  {
   "cell_type": "code",
   "execution_count": 31,
   "id": "13ae3bcd",
   "metadata": {},
   "outputs": [
    {
     "data": {
      "text/plain": [
       "'Salcedo'"
      ]
     },
     "execution_count": 31,
     "metadata": {},
     "output_type": "execute_result"
    }
   ],
   "source": [
    "name_list[5]"
   ]
  },
  {
   "cell_type": "code",
   "execution_count": 32,
   "id": "d6f9e17e",
   "metadata": {},
   "outputs": [
    {
     "data": {
      "text/plain": [
       "'Salcedo'"
      ]
     },
     "execution_count": 32,
     "metadata": {},
     "output_type": "execute_result"
    }
   ],
   "source": [
    "name_list[-1]"
   ]
  },
  {
   "cell_type": "code",
   "execution_count": null,
   "id": "600515dd",
   "metadata": {},
   "outputs": [
    {
     "data": {
      "text/plain": [
       "['Gabriela', 'Javier', 'Jose']"
      ]
     },
     "execution_count": 33,
     "metadata": {},
     "output_type": "execute_result"
    }
   ],
   "source": [
    "# Slice de una lista\n",
    "\n",
    "# Primer valor incio\n",
    "# Ultimo valor fin \n",
    "\n",
    "name_list[0:3]"
   ]
  },
  {
   "cell_type": "code",
   "execution_count": 34,
   "id": "847fd813",
   "metadata": {},
   "outputs": [
    {
     "data": {
      "text/plain": [
       "6"
      ]
     },
     "execution_count": 34,
     "metadata": {},
     "output_type": "execute_result"
    }
   ],
   "source": [
    "len(name_list)"
   ]
  },
  {
   "cell_type": "code",
   "execution_count": 36,
   "id": "29b24904",
   "metadata": {},
   "outputs": [
    {
     "name": "stdout",
     "output_type": "stream",
     "text": [
      "Gabriela\n",
      "Javier\n",
      "Jose\n",
      "Luis\n",
      "Pedro\n",
      "Salcedo\n"
     ]
    }
   ],
   "source": [
    "#  ciclos finitos \n",
    "for var in name_list:\n",
    "    print(var)"
   ]
  },
  {
   "cell_type": "code",
   "execution_count": 37,
   "id": "2a39a23f",
   "metadata": {},
   "outputs": [
    {
     "name": "stdout",
     "output_type": "stream",
     "text": [
      "Es Gabriela\n",
      "0\n"
     ]
    }
   ],
   "source": [
    "#  ciclos finitos \n",
    "for name in name_list:\n",
    "    if name == \"Gabriela\":\n",
    "        print(\"Es Gabriela\")\n",
    "        #imprime la posicion de la lista\n",
    "        print(name_list.index(name))"
   ]
  },
  {
   "cell_type": "code",
   "execution_count": 38,
   "id": "d710be69",
   "metadata": {},
   "outputs": [
    {
     "name": "stdout",
     "output_type": "stream",
     "text": [
      "hola\n",
      "hola\n",
      "hola\n",
      "hola\n"
     ]
    }
   ],
   "source": [
    "# recorrido de un alista por indices\n",
    "for item in range(4):\n",
    "    print(\"hola\")"
   ]
  },
  {
   "cell_type": "code",
   "execution_count": 39,
   "id": "db9aa7cd",
   "metadata": {},
   "outputs": [
    {
     "name": "stdout",
     "output_type": "stream",
     "text": [
      "0\n",
      "1\n",
      "2\n",
      "3\n",
      "4\n",
      "5\n"
     ]
    }
   ],
   "source": [
    "# recorrido de un alista por indices\n",
    "for item in range(len(name_list)):\n",
    "    print(item)"
   ]
  },
  {
   "cell_type": "code",
   "execution_count": null,
   "id": "f81493be",
   "metadata": {},
   "outputs": [
    {
     "ename": "IndentationError",
     "evalue": "unexpected indent (3443754336.py, line 6)",
     "output_type": "error",
     "traceback": [
      "  \u001b[36mCell\u001b[39m\u001b[36m \u001b[39m\u001b[32mIn[46]\u001b[39m\u001b[32m, line 6\u001b[39m\n\u001b[31m    \u001b[39m\u001b[31mprint(item)\u001b[39m\n    ^\n\u001b[31mIndentationError\u001b[39m\u001b[31m:\u001b[39m unexpected indent\n"
     ]
    },
    {
     "ename": "",
     "evalue": "",
     "output_type": "error",
     "traceback": [
      "\u001b[1;31mThe Kernel crashed while executing code in the current cell or a previous cell. \n",
      "\u001b[1;31mPlease review the code in the cell(s) to identify a possible cause of the failure. \n",
      "\u001b[1;31mClick <a href='https://aka.ms/vscodeJupyterKernelCrash'>here</a> for more info. \n",
      "\u001b[1;31mView Jupyter <a href='command:jupyter.viewOutput'>log</a> for further details."
     ]
    }
   ],
   "source": [
    "# recorrido de un alista por indices\n",
    "for item in range(len(name_list)):\n",
    "    print(name_list[item])== \"Salcedo\"\n",
    "        #Imprime la posicion de la lista\n",
    "    print(name_list[item])\n",
    "        print(item)"
   ]
  },
  {
   "cell_type": "code",
   "execution_count": 44,
   "id": "eb608e4e",
   "metadata": {},
   "outputs": [
    {
     "name": "stdout",
     "output_type": "stream",
     "text": [
      "3\n",
      "4\n",
      "5\n",
      "6\n",
      "7\n",
      "8\n",
      "9\n",
      "10\n",
      "11\n"
     ]
    }
   ],
   "source": [
    "for i in range(3,12):\n",
    "    print(i)"
   ]
  },
  {
   "cell_type": "code",
   "execution_count": null,
   "id": "3ae1e8e5",
   "metadata": {},
   "outputs": [],
   "source": []
  }
 ],
 "metadata": {
  "kernelspec": {
   "display_name": "Python 3",
   "language": "python",
   "name": "python3"
  },
  "language_info": {
   "codemirror_mode": {
    "name": "ipython",
    "version": 3
   },
   "file_extension": ".py",
   "mimetype": "text/x-python",
   "name": "python",
   "nbconvert_exporter": "python",
   "pygments_lexer": "ipython3",
   "version": "3.13.3"
  }
 },
 "nbformat": 4,
 "nbformat_minor": 5
}
